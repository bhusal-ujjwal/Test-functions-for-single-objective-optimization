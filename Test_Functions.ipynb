{
  "nbformat": 4,
  "nbformat_minor": 0,
  "metadata": {
    "colab": {
      "provenance": []
    },
    "kernelspec": {
      "name": "python3",
      "display_name": "Python 3"
    },
    "language_info": {
      "name": "python"
    }
  },
  "cells": [
    {
      "cell_type": "code",
      "execution_count": null,
      "metadata": {
        "id": "dXu9uPib-FHx"
      },
      "outputs": [],
      "source": [
        "# Test functions for single-objective optimization\n",
        "# Implement at least 5 test functions for single-objective optimization in Mathematica or Python.\n",
        "# Select test functions that are NOT limited to a certain number of input parameters (fixed dimension size).\n",
        "# You can find them in the related lectures by prof Senkerik, or you can find them online (e.g., https://www.sfu.ca/~ssurjano/index.html)."
      ]
    },
    {
      "cell_type": "code",
      "source": [],
      "metadata": {
        "id": "HS129E62Dy12"
      },
      "execution_count": null,
      "outputs": []
    },
    {
      "cell_type": "code",
      "source": [
        "# SPHERE FUNCTION\n",
        "# https://www.sfu.ca/~ssurjano/spheref.html\n",
        "# x is in <-5.12, 5.12>\n",
        "# f(x*) = 0, x* = (0, ... ,0)\n",
        "import numpy as np\n",
        "def test_sphere(x):\n",
        "    sum = 0\n",
        "    for i in x:\n",
        "        sum += i**2\n",
        "    return sum\n",
        "\n",
        "\n",
        "if __name__ == '__main__':\n",
        "    x = [0,0,0,0,0,0]\n",
        "    fx = test_sphere(x)\n",
        "    print(fx)\n",
        "\n",
        "    x1 = [0,1,2,3]\n",
        "    fx1 = test_sphere(x1)\n",
        "    print(fx1)\n",
        "\n",
        "    # random numbers\n",
        "    # dimension size (number of parameters) d = 10\n",
        "    # in a range defined by the test function\n",
        "    d = 10\n",
        "    x2 = np.random.default_rng().uniform(low=-5.12, high=5.12, size=d)\n",
        "    print(\"x = {x2}\".format(x2=x2))\n",
        "    fx2 = test_sphere(x2)\n",
        "    print(\"f = {fx2}\".format(fx2=fx2))"
      ],
      "metadata": {
        "id": "zJyuZqijW22J",
        "outputId": "de32d22b-7131-4dbe-e559-db9586e4a638",
        "colab": {
          "base_uri": "https://localhost:8080/"
        }
      },
      "execution_count": null,
      "outputs": [
        {
          "output_type": "stream",
          "name": "stdout",
          "text": [
            "0\n",
            "14\n",
            "x = [-0.74264147  4.63436686  4.63197152  2.6400865   4.63105342 -2.66123701\n",
            " -0.14553284 -2.03211406 -1.08473506 -3.81671432]\n",
            "f = 98.87755332446645\n"
          ]
        }
      ]
    },
    {
      "cell_type": "code",
      "source": [],
      "metadata": {
        "id": "mCcBYSr8W3V4"
      },
      "execution_count": null,
      "outputs": []
    },
    {
      "cell_type": "code",
      "source": [
        "# RASTRIGIN FUNCTION\n",
        "# https://www.sfu.ca/~ssurjano/rastr.html\n",
        "# x is in <-5.12, 5.12>\n",
        "# f(x*) = 0, x* = (0, ... ,0)\n",
        "import numpy as np\n",
        "def test_rastrigin(x):\n",
        "    d = len(x)\n",
        "    sum = 10 * d\n",
        "    for i in x:\n",
        "        sum += i**2 - 10 * np.cos(2 * np.pi * i)\n",
        "    return sum\n",
        "\n",
        "if __name__ == '__main__':\n",
        "    # example usage with known minimum at x=[0,0,0,0,0,0]\n",
        "    x = [0,0,0,0,0,0]\n",
        "    fx = test_rastrigin(x)\n",
        "    print(fx)\n",
        "\n",
        "    # example usage with arbitrary point\n",
        "    x1 = [0,1,2,3]\n",
        "    fx1 = test_rastrigin(x1)\n",
        "    print(fx1)\n",
        "\n",
        "    # example usage with random point of dimension size 10\n",
        "    d = 10\n",
        "    x2 = np.random.default_rng().uniform(low=-5.12, high=5.12, size=d)\n",
        "    print(\"x = {x2}\".format(x2=x2))\n",
        "    fx2 = test_rastrigin(x2)\n",
        "    print(\"f = {fx2}\".format(fx2=fx2))"
      ],
      "metadata": {
        "colab": {
          "base_uri": "https://localhost:8080/"
        },
        "id": "qywoHZSyDzTp",
        "outputId": "e2c8266d-fcb3-4e4b-e454-13c308c013d9"
      },
      "execution_count": null,
      "outputs": [
        {
          "output_type": "stream",
          "name": "stdout",
          "text": [
            "0.0\n",
            "14.0\n",
            "x = [ 4.70344512 -3.37910743 -0.83937571 -3.80972041  2.13157189  3.32079991\n",
            " -5.02138567 -0.62395257  3.66154148  0.98797039]\n",
            "f = 195.5044159990889\n"
          ]
        }
      ]
    },
    {
      "cell_type": "code",
      "source": [],
      "metadata": {
        "id": "maqdCHsM-Smv"
      },
      "execution_count": null,
      "outputs": []
    },
    {
      "cell_type": "code",
      "source": [
        "# ACKLEY FUNCTION\n",
        "# https://www.sfu.ca/~ssurjano/ackley.html\n",
        "# x is in <-32.768, 32.768>\n",
        "# f(x*) = 0, x* = (0, ... ,0)\n",
        "import numpy as np\n",
        "def test_ackley(x):\n",
        "    d = len(x)\n",
        "    sum1 = 0\n",
        "    sum2 = 0\n",
        "    for i in x:\n",
        "        sum1 += i ** 2\n",
        "        sum2 += np.cos(2 * np.pi * i)\n",
        "    term1 = -20 * np.exp(-0.2 * np.sqrt(sum1 / d))\n",
        "    term2 = -np.exp(sum2 / d)\n",
        "    return term1 + term2 + 20 + np.exp(1)\n",
        "\n",
        "if __name__ == '__main__':\n",
        "    # example usage with known minimum at x=[0,0,0,0,0,0]\n",
        "    x = [0,0,0,0,0,0]\n",
        "    fx = test_ackley(x)\n",
        "    print(fx)\n",
        "\n",
        "    # example usage with arbitrary point\n",
        "    x1 = [0,1,2,3]\n",
        "    fx1 = test_ackley(x1)\n",
        "    print(fx1)\n",
        "\n",
        "    # example usage with random point of dimension size 10\n",
        "    d = 10\n",
        "    x2 = np.random.default_rng().uniform(low=-32.768, high=32.768, size=d)\n",
        "    print(\"x = {x2}\".format(x2=x2))\n",
        "    fx2 = test_ackley(x2)\n",
        "    print(\"f = {fx2}\".format(fx2=fx2))"
      ],
      "metadata": {
        "colab": {
          "base_uri": "https://localhost:8080/"
        },
        "id": "DhUEDX_t-fUp",
        "outputId": "59a0b1b6-fc71-47be-c63c-d61c57cd9134"
      },
      "execution_count": null,
      "outputs": [
        {
          "output_type": "stream",
          "name": "stdout",
          "text": [
            "4.440892098500626e-16\n",
            "6.24274206211723\n",
            "x = [-21.16253226  29.75491908 -13.12338015  25.94635025  -3.3613665\n",
            "  29.64622026 -28.27890882  28.49874357 -16.54059973  27.03825733]\n",
            "f = 21.569901785891524\n"
          ]
        }
      ]
    },
    {
      "cell_type": "code",
      "source": [],
      "metadata": {
        "id": "EMbNeWNS-kKs"
      },
      "execution_count": null,
      "outputs": []
    },
    {
      "cell_type": "code",
      "source": [
        "# ROSENBROCK FUNCTION\n",
        "# https://www.sfu.ca/~ssurjano/rosen.html\n",
        "# x is in <-inf, inf>\n",
        "# f(x*) = 0, x* = (1, ... ,1)\n",
        "import numpy as np\n",
        "def test_rosenbrock(x):\n",
        "    d = len(x)\n",
        "    sum = 0\n",
        "    for i in range(d-1):\n",
        "        sum += 100 * (x[i+1] - x[i]**2)**2 + (1 - x[i])**2\n",
        "    return sum\n",
        "\n",
        "if __name__ == '__main__':\n",
        "    # example usage with known minimum at x=[1,1,1,1,1,1]\n",
        "    x = [1,1,1,1,1,1]\n",
        "    fx = test_rosenbrock(x)\n",
        "    print(fx)\n",
        "\n",
        "    # example usage with arbitrary point\n",
        "    x1 = [2,3,4,5]\n",
        "    fx1 = test_rosenbrock(x1)\n",
        "    print(fx1)\n",
        "\n",
        "    # example usage with random point of dimension size 10\n",
        "    d = 10\n",
        "    x2 = np.random.default_rng().standard_normal(d)\n",
        "    print(\"x = {x2}\".format(x2=x2))\n",
        "    fx2 = test_rosenbrock(x2)\n",
        "    print(\"f = {fx2}\".format(fx2=fx2))"
      ],
      "metadata": {
        "colab": {
          "base_uri": "https://localhost:8080/"
        },
        "id": "J6vCyxzpBSe_",
        "outputId": "f2105853-4b8b-4031-f5fe-040f8379682e"
      },
      "execution_count": null,
      "outputs": [
        {
          "output_type": "stream",
          "name": "stdout",
          "text": [
            "0\n",
            "14714\n",
            "x = [-0.55439477  0.237115   -0.55045229  0.58813173 -1.50944486  0.72513556\n",
            "  1.80360889  0.68953484 -1.00171364  0.62189618]\n",
            "f = 1700.7955997412453\n"
          ]
        }
      ]
    },
    {
      "cell_type": "code",
      "source": [],
      "metadata": {
        "id": "SlMM2nBGBW31"
      },
      "execution_count": null,
      "outputs": []
    },
    {
      "cell_type": "code",
      "source": [
        "# GRIEWANK FUNCTION\n",
        "# https://www.sfu.ca/~ssurjano/griewank.html\n",
        "# x is in <-600, 600>\n",
        "# f(x*) = 0, x* = (0, ... ,0)\n",
        "import numpy as np\n",
        "def test_griewank(x):\n",
        "    d = len(x)\n",
        "    sum_sq = sum(xi**2 for xi in x)\n",
        "    prod_cos = np.prod([np.cos(xi / np.sqrt(i+1)) for i, xi in enumerate(x)])\n",
        "    return 1 + sum_sq / 4000 - prod_cos\n",
        "\n",
        "if __name__ == '__main__':\n",
        "    # example usage with known minimum at x=[0,0,0,0,0,0]\n",
        "    x = [0,0,0,0,0,0]\n",
        "    fx = test_griewank(x)\n",
        "    print(fx)\n",
        "\n",
        "    # example usage with arbitrary point\n",
        "    x1 = [0,1,2,3]\n",
        "    fx1 = test_griewank(x1)\n",
        "    print(fx1)\n",
        "\n",
        "    # example usage with random point of dimension size 10\n",
        "    d = 10\n",
        "    x2 = np.random.default_rng().uniform(low=-600, high=600, size=d)\n",
        "    print(\"x = {x2}\".format(x2=x2))\n",
        "    fx2 = test_griewank(x2)\n",
        "    print(\"f = {fx2}\".format(fx2=fx2))"
      ],
      "metadata": {
        "colab": {
          "base_uri": "https://localhost:8080/"
        },
        "id": "t_FYDie-Bc6B",
        "outputId": "7c53faf0-7eb7-4a30-d1f3-dafe5b7f5ffa"
      },
      "execution_count": null,
      "outputs": [
        {
          "output_type": "stream",
          "name": "stdout",
          "text": [
            "0.0\n",
            "0.981763509407669\n",
            "x = [ 262.40118498 -490.43980061 -141.70974492 -385.42320623  325.57330247\n",
            "  138.72725202  -27.01461022  130.48339556 -319.44047858 -517.09438277]\n",
            "f = 248.61363766370303\n"
          ]
        }
      ]
    },
    {
      "cell_type": "code",
      "source": [],
      "metadata": {
        "id": "FXK2M3-eFIje"
      },
      "execution_count": null,
      "outputs": []
    },
    {
      "cell_type": "code",
      "source": [
        "# STYBLINSKI-TANG FUNCTION\n",
        "# https://www.sfu.ca/~ssurjano/stybtang.html\n",
        "# x is in <-5, 5>\n",
        "# f(x*) = -39.166*d, x* = (-2.903534,...,-2.903534)\n",
        "import numpy as np\n",
        "def test_stybtang(x):\n",
        "    sum = 0\n",
        "    for i in x:\n",
        "        sum += i**4 - 16 * i**2 + 5 * i\n",
        "    return 0.5 * sum\n",
        "\n",
        "if __name__ == '__main__':\n",
        "    # example usage with known minimum at x=[-2.903534,...,-2.903534]\n",
        "    x = [-2.903534]*6\n",
        "    fx = test_stybtang(x)\n",
        "    print(fx)\n",
        "\n",
        "    # example usage with arbitrary point\n",
        "    x1 = [-1,-1,-1,-1,-1,-1]\n",
        "    fx1 = test_stybtang(x1)\n",
        "    print(fx1)\n",
        "\n",
        "    # example usage with random point of dimension size 10\n",
        "    d = 10\n",
        "    x2 = np.random.default_rng().uniform(low=-5, high=5, size=d)\n",
        "    print(\"x = {x2}\".format(x2=x2))\n",
        "    fx2 = test_stybtang(x2)\n",
        "    print(\"f = {fx2}\".format(fx2=fx2))"
      ],
      "metadata": {
        "colab": {
          "base_uri": "https://localhost:8080/"
        },
        "id": "Leose1_nFKYT",
        "outputId": "9a4ca928-f985-4c4a-d5d3-b9a05fea1987"
      },
      "execution_count": null,
      "outputs": [
        {
          "output_type": "stream",
          "name": "stdout",
          "text": [
            "-234.99699422262842\n",
            "-60.0\n",
            "x = [ 4.24174471  3.47564993 -3.65188211 -0.71848737 -0.54803196 -1.12037681\n",
            "  2.7874937   1.03377232  3.6104867  -2.54125176]\n",
            "f = -112.78433198739765\n"
          ]
        }
      ]
    },
    {
      "cell_type": "code",
      "source": [],
      "metadata": {
        "id": "PMwO5V8RFPs2"
      },
      "execution_count": null,
      "outputs": []
    }
  ]
}